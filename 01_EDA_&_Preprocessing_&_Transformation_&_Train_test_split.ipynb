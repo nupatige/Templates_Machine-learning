{
  "nbformat": 4,
  "nbformat_minor": 5,
  "metadata": {
    "kernelspec": {
      "display_name": "Python 3",
      "language": "python",
      "name": "python3"
    },
    "language_info": {
      "codemirror_mode": {
        "name": "ipython",
        "version": 3
      },
      "file_extension": ".py",
      "mimetype": "text/x-python",
      "name": "python",
      "nbconvert_exporter": "python",
      "pygments_lexer": "ipython3",
      "version": "3.7.10"
    },
    "colab": {
      "name": "01_EDA & Preprocessing & Transformation & Train-test split.ipynb",
      "provenance": [],
      "collapsed_sections": [],
      "include_colab_link": true
    }
  },
  "cells": [
    {
      "cell_type": "markdown",
      "metadata": {
        "id": "view-in-github",
        "colab_type": "text"
      },
      "source": [
        "<a href=\"https://colab.research.google.com/github/nupatige/Templates_Machine-learning/blob/main/01_EDA_%26_Preprocessing_%26_Transformation_%26_Train_test_split.ipynb\" target=\"_parent\"><img src=\"https://colab.research.google.com/assets/colab-badge.svg\" alt=\"Open In Colab\"/></a>"
      ]
    },
    {
      "cell_type": "markdown",
      "metadata": {
        "id": "70f45c41"
      },
      "source": [
        "## Reading the file"
      ],
      "id": "70f45c41"
    },
    {
      "cell_type": "code",
      "metadata": {
        "colab": {
          "base_uri": "https://localhost:8080/"
        },
        "id": "xMqX1QsUPmAp",
        "outputId": "f656e2b1-9502-43bb-d9b0-36d824119e03"
      },
      "source": [
        "from google.colab import drive\n",
        "drive.mount('/content/drive')"
      ],
      "id": "xMqX1QsUPmAp",
      "execution_count": null,
      "outputs": [
        {
          "output_type": "stream",
          "name": "stdout",
          "text": [
            "Mounted at /content/drive\n"
          ]
        }
      ]
    },
    {
      "cell_type": "code",
      "metadata": {
        "id": "87f31b7b"
      },
      "source": [
        "import pandas as pd\n",
        "\n",
        "# Either specify path of place the csv in same directory & specify name\n",
        "data = pd.read_csv('/content/drive/MyDrive/Datasets/Templates/Advertising.csv')  "
      ],
      "id": "87f31b7b",
      "execution_count": null,
      "outputs": []
    },
    {
      "cell_type": "code",
      "metadata": {
        "colab": {
          "base_uri": "https://localhost:8080/",
          "height": 203
        },
        "id": "6cef5cc7",
        "outputId": "f36e4ef3-335c-4ddb-ba22-c901a18b75c3"
      },
      "source": [
        "# Reads the head of the data\n",
        "data.head()"
      ],
      "id": "6cef5cc7",
      "execution_count": null,
      "outputs": [
        {
          "output_type": "execute_result",
          "data": {
            "text/html": [
              "<div>\n",
              "<style scoped>\n",
              "    .dataframe tbody tr th:only-of-type {\n",
              "        vertical-align: middle;\n",
              "    }\n",
              "\n",
              "    .dataframe tbody tr th {\n",
              "        vertical-align: top;\n",
              "    }\n",
              "\n",
              "    .dataframe thead th {\n",
              "        text-align: right;\n",
              "    }\n",
              "</style>\n",
              "<table border=\"1\" class=\"dataframe\">\n",
              "  <thead>\n",
              "    <tr style=\"text-align: right;\">\n",
              "      <th></th>\n",
              "      <th>TV</th>\n",
              "      <th>Radio</th>\n",
              "      <th>Newspaper</th>\n",
              "      <th>Sales</th>\n",
              "    </tr>\n",
              "  </thead>\n",
              "  <tbody>\n",
              "    <tr>\n",
              "      <th>0</th>\n",
              "      <td>230.1</td>\n",
              "      <td>37.8</td>\n",
              "      <td>69.2</td>\n",
              "      <td>22.1</td>\n",
              "    </tr>\n",
              "    <tr>\n",
              "      <th>1</th>\n",
              "      <td>44.5</td>\n",
              "      <td>39.3</td>\n",
              "      <td>45.1</td>\n",
              "      <td>10.4</td>\n",
              "    </tr>\n",
              "    <tr>\n",
              "      <th>2</th>\n",
              "      <td>17.2</td>\n",
              "      <td>45.9</td>\n",
              "      <td>69.3</td>\n",
              "      <td>9.3</td>\n",
              "    </tr>\n",
              "    <tr>\n",
              "      <th>3</th>\n",
              "      <td>151.5</td>\n",
              "      <td>41.3</td>\n",
              "      <td>58.5</td>\n",
              "      <td>18.5</td>\n",
              "    </tr>\n",
              "    <tr>\n",
              "      <th>4</th>\n",
              "      <td>180.8</td>\n",
              "      <td>10.8</td>\n",
              "      <td>58.4</td>\n",
              "      <td>12.9</td>\n",
              "    </tr>\n",
              "  </tbody>\n",
              "</table>\n",
              "</div>"
            ],
            "text/plain": [
              "      TV  Radio  Newspaper  Sales\n",
              "0  230.1   37.8       69.2   22.1\n",
              "1   44.5   39.3       45.1   10.4\n",
              "2   17.2   45.9       69.3    9.3\n",
              "3  151.5   41.3       58.5   18.5\n",
              "4  180.8   10.8       58.4   12.9"
            ]
          },
          "metadata": {},
          "execution_count": 3
        }
      ]
    },
    {
      "cell_type": "code",
      "metadata": {
        "colab": {
          "base_uri": "https://localhost:8080/",
          "height": 203
        },
        "id": "244ca2eb",
        "outputId": "4fe2a27e-fb56-4dae-8a27-203e630719d7"
      },
      "source": [
        "# Reads the tail of the data\n",
        "data.tail()"
      ],
      "id": "244ca2eb",
      "execution_count": null,
      "outputs": [
        {
          "output_type": "execute_result",
          "data": {
            "text/html": [
              "<div>\n",
              "<style scoped>\n",
              "    .dataframe tbody tr th:only-of-type {\n",
              "        vertical-align: middle;\n",
              "    }\n",
              "\n",
              "    .dataframe tbody tr th {\n",
              "        vertical-align: top;\n",
              "    }\n",
              "\n",
              "    .dataframe thead th {\n",
              "        text-align: right;\n",
              "    }\n",
              "</style>\n",
              "<table border=\"1\" class=\"dataframe\">\n",
              "  <thead>\n",
              "    <tr style=\"text-align: right;\">\n",
              "      <th></th>\n",
              "      <th>TV</th>\n",
              "      <th>Radio</th>\n",
              "      <th>Newspaper</th>\n",
              "      <th>Sales</th>\n",
              "    </tr>\n",
              "  </thead>\n",
              "  <tbody>\n",
              "    <tr>\n",
              "      <th>195</th>\n",
              "      <td>38.2</td>\n",
              "      <td>3.7</td>\n",
              "      <td>13.8</td>\n",
              "      <td>7.6</td>\n",
              "    </tr>\n",
              "    <tr>\n",
              "      <th>196</th>\n",
              "      <td>94.2</td>\n",
              "      <td>4.9</td>\n",
              "      <td>8.1</td>\n",
              "      <td>9.7</td>\n",
              "    </tr>\n",
              "    <tr>\n",
              "      <th>197</th>\n",
              "      <td>177.0</td>\n",
              "      <td>9.3</td>\n",
              "      <td>6.4</td>\n",
              "      <td>12.8</td>\n",
              "    </tr>\n",
              "    <tr>\n",
              "      <th>198</th>\n",
              "      <td>283.6</td>\n",
              "      <td>42.0</td>\n",
              "      <td>66.2</td>\n",
              "      <td>25.5</td>\n",
              "    </tr>\n",
              "    <tr>\n",
              "      <th>199</th>\n",
              "      <td>232.1</td>\n",
              "      <td>8.6</td>\n",
              "      <td>8.7</td>\n",
              "      <td>13.4</td>\n",
              "    </tr>\n",
              "  </tbody>\n",
              "</table>\n",
              "</div>"
            ],
            "text/plain": [
              "        TV  Radio  Newspaper  Sales\n",
              "195   38.2    3.7       13.8    7.6\n",
              "196   94.2    4.9        8.1    9.7\n",
              "197  177.0    9.3        6.4   12.8\n",
              "198  283.6   42.0       66.2   25.5\n",
              "199  232.1    8.6        8.7   13.4"
            ]
          },
          "metadata": {},
          "execution_count": 4
        }
      ]
    },
    {
      "cell_type": "code",
      "metadata": {
        "colab": {
          "base_uri": "https://localhost:8080/",
          "height": 203
        },
        "id": "005efc95",
        "outputId": "dd1c250f-2265-4662-c208-ae8e220e2698"
      },
      "source": [
        "# Reads the random sample of the data\n",
        "data.sample(5)"
      ],
      "id": "005efc95",
      "execution_count": null,
      "outputs": [
        {
          "output_type": "execute_result",
          "data": {
            "text/html": [
              "<div>\n",
              "<style scoped>\n",
              "    .dataframe tbody tr th:only-of-type {\n",
              "        vertical-align: middle;\n",
              "    }\n",
              "\n",
              "    .dataframe tbody tr th {\n",
              "        vertical-align: top;\n",
              "    }\n",
              "\n",
              "    .dataframe thead th {\n",
              "        text-align: right;\n",
              "    }\n",
              "</style>\n",
              "<table border=\"1\" class=\"dataframe\">\n",
              "  <thead>\n",
              "    <tr style=\"text-align: right;\">\n",
              "      <th></th>\n",
              "      <th>TV</th>\n",
              "      <th>Radio</th>\n",
              "      <th>Newspaper</th>\n",
              "      <th>Sales</th>\n",
              "    </tr>\n",
              "  </thead>\n",
              "  <tbody>\n",
              "    <tr>\n",
              "      <th>21</th>\n",
              "      <td>237.4</td>\n",
              "      <td>5.1</td>\n",
              "      <td>23.5</td>\n",
              "      <td>12.5</td>\n",
              "    </tr>\n",
              "    <tr>\n",
              "      <th>70</th>\n",
              "      <td>199.1</td>\n",
              "      <td>30.6</td>\n",
              "      <td>38.7</td>\n",
              "      <td>18.3</td>\n",
              "    </tr>\n",
              "    <tr>\n",
              "      <th>26</th>\n",
              "      <td>142.9</td>\n",
              "      <td>29.3</td>\n",
              "      <td>12.6</td>\n",
              "      <td>15.0</td>\n",
              "    </tr>\n",
              "    <tr>\n",
              "      <th>106</th>\n",
              "      <td>25.0</td>\n",
              "      <td>11.0</td>\n",
              "      <td>29.7</td>\n",
              "      <td>7.2</td>\n",
              "    </tr>\n",
              "    <tr>\n",
              "      <th>42</th>\n",
              "      <td>293.6</td>\n",
              "      <td>27.7</td>\n",
              "      <td>1.8</td>\n",
              "      <td>20.7</td>\n",
              "    </tr>\n",
              "  </tbody>\n",
              "</table>\n",
              "</div>"
            ],
            "text/plain": [
              "        TV  Radio  Newspaper  Sales\n",
              "21   237.4    5.1       23.5   12.5\n",
              "70   199.1   30.6       38.7   18.3\n",
              "26   142.9   29.3       12.6   15.0\n",
              "106   25.0   11.0       29.7    7.2\n",
              "42   293.6   27.7        1.8   20.7"
            ]
          },
          "metadata": {},
          "execution_count": 5
        }
      ]
    },
    {
      "cell_type": "markdown",
      "metadata": {
        "id": "272a796c"
      },
      "source": [
        "## Information of the data"
      ],
      "id": "272a796c"
    },
    {
      "cell_type": "code",
      "metadata": {
        "colab": {
          "base_uri": "https://localhost:8080/"
        },
        "id": "cfb0c013",
        "outputId": "a5617392-bd08-407c-87f5-c8b4db7fb5c4"
      },
      "source": [
        "# Count of number or rows & columns\n",
        "data.shape"
      ],
      "id": "cfb0c013",
      "execution_count": null,
      "outputs": [
        {
          "output_type": "execute_result",
          "data": {
            "text/plain": [
              "(200, 4)"
            ]
          },
          "metadata": {},
          "execution_count": 6
        }
      ]
    },
    {
      "cell_type": "code",
      "metadata": {
        "colab": {
          "base_uri": "https://localhost:8080/"
        },
        "id": "7ed63555",
        "outputId": "e03f151f-6321-41dc-cfc1-8365e4d63ca5"
      },
      "source": [
        "# How to see all the columns\n",
        "data.columns"
      ],
      "id": "7ed63555",
      "execution_count": null,
      "outputs": [
        {
          "output_type": "execute_result",
          "data": {
            "text/plain": [
              "Index(['TV', 'Radio', 'Newspaper', 'Sales'], dtype='object')"
            ]
          },
          "metadata": {},
          "execution_count": 7
        }
      ]
    },
    {
      "cell_type": "code",
      "metadata": {
        "colab": {
          "base_uri": "https://localhost:8080/",
          "height": 295
        },
        "id": "b3956063",
        "outputId": "e0d3299b-cea4-4375-bc45-74ce31657168"
      },
      "source": [
        "# how to describe the data\n",
        "data.describe()  # \"include = 'all' \" will give information of categorical & numerical data both\n",
        "\n",
        "# It provides the five point summary along with the mean & standard deviation"
      ],
      "id": "b3956063",
      "execution_count": null,
      "outputs": [
        {
          "output_type": "execute_result",
          "data": {
            "text/html": [
              "<div>\n",
              "<style scoped>\n",
              "    .dataframe tbody tr th:only-of-type {\n",
              "        vertical-align: middle;\n",
              "    }\n",
              "\n",
              "    .dataframe tbody tr th {\n",
              "        vertical-align: top;\n",
              "    }\n",
              "\n",
              "    .dataframe thead th {\n",
              "        text-align: right;\n",
              "    }\n",
              "</style>\n",
              "<table border=\"1\" class=\"dataframe\">\n",
              "  <thead>\n",
              "    <tr style=\"text-align: right;\">\n",
              "      <th></th>\n",
              "      <th>TV</th>\n",
              "      <th>Radio</th>\n",
              "      <th>Newspaper</th>\n",
              "      <th>Sales</th>\n",
              "    </tr>\n",
              "  </thead>\n",
              "  <tbody>\n",
              "    <tr>\n",
              "      <th>count</th>\n",
              "      <td>200.000000</td>\n",
              "      <td>200.000000</td>\n",
              "      <td>200.000000</td>\n",
              "      <td>200.000000</td>\n",
              "    </tr>\n",
              "    <tr>\n",
              "      <th>mean</th>\n",
              "      <td>147.042500</td>\n",
              "      <td>23.264000</td>\n",
              "      <td>30.554000</td>\n",
              "      <td>14.022500</td>\n",
              "    </tr>\n",
              "    <tr>\n",
              "      <th>std</th>\n",
              "      <td>85.854236</td>\n",
              "      <td>14.846809</td>\n",
              "      <td>21.778621</td>\n",
              "      <td>5.217457</td>\n",
              "    </tr>\n",
              "    <tr>\n",
              "      <th>min</th>\n",
              "      <td>0.700000</td>\n",
              "      <td>0.000000</td>\n",
              "      <td>0.300000</td>\n",
              "      <td>1.600000</td>\n",
              "    </tr>\n",
              "    <tr>\n",
              "      <th>25%</th>\n",
              "      <td>74.375000</td>\n",
              "      <td>9.975000</td>\n",
              "      <td>12.750000</td>\n",
              "      <td>10.375000</td>\n",
              "    </tr>\n",
              "    <tr>\n",
              "      <th>50%</th>\n",
              "      <td>149.750000</td>\n",
              "      <td>22.900000</td>\n",
              "      <td>25.750000</td>\n",
              "      <td>12.900000</td>\n",
              "    </tr>\n",
              "    <tr>\n",
              "      <th>75%</th>\n",
              "      <td>218.825000</td>\n",
              "      <td>36.525000</td>\n",
              "      <td>45.100000</td>\n",
              "      <td>17.400000</td>\n",
              "    </tr>\n",
              "    <tr>\n",
              "      <th>max</th>\n",
              "      <td>296.400000</td>\n",
              "      <td>49.600000</td>\n",
              "      <td>114.000000</td>\n",
              "      <td>27.000000</td>\n",
              "    </tr>\n",
              "  </tbody>\n",
              "</table>\n",
              "</div>"
            ],
            "text/plain": [
              "               TV       Radio   Newspaper       Sales\n",
              "count  200.000000  200.000000  200.000000  200.000000\n",
              "mean   147.042500   23.264000   30.554000   14.022500\n",
              "std     85.854236   14.846809   21.778621    5.217457\n",
              "min      0.700000    0.000000    0.300000    1.600000\n",
              "25%     74.375000    9.975000   12.750000   10.375000\n",
              "50%    149.750000   22.900000   25.750000   12.900000\n",
              "75%    218.825000   36.525000   45.100000   17.400000\n",
              "max    296.400000   49.600000  114.000000   27.000000"
            ]
          },
          "metadata": {},
          "execution_count": 8
        }
      ]
    },
    {
      "cell_type": "markdown",
      "metadata": {
        "id": "93daf266"
      },
      "source": [
        "## Checking null values"
      ],
      "id": "93daf266"
    },
    {
      "cell_type": "code",
      "metadata": {
        "colab": {
          "base_uri": "https://localhost:8080/"
        },
        "id": "caa884cb",
        "outputId": "e14633cd-4a28-4505-d4da-a0a12233f405"
      },
      "source": [
        "# Method - 1\n",
        "data.notnull().count()"
      ],
      "id": "caa884cb",
      "execution_count": null,
      "outputs": [
        {
          "output_type": "execute_result",
          "data": {
            "text/plain": [
              "TV           200\n",
              "Radio        200\n",
              "Newspaper    200\n",
              "Sales        200\n",
              "dtype: int64"
            ]
          },
          "metadata": {},
          "execution_count": 9
        }
      ]
    },
    {
      "cell_type": "code",
      "metadata": {
        "colab": {
          "base_uri": "https://localhost:8080/"
        },
        "id": "56296352",
        "outputId": "9b4ae302-0d18-4400-b0ed-a2d5b1923a13"
      },
      "source": [
        "# Method - 2\n",
        "data.isnull().sum()"
      ],
      "id": "56296352",
      "execution_count": null,
      "outputs": [
        {
          "output_type": "execute_result",
          "data": {
            "text/plain": [
              "TV           0\n",
              "Radio        0\n",
              "Newspaper    0\n",
              "Sales        0\n",
              "dtype: int64"
            ]
          },
          "metadata": {},
          "execution_count": 10
        }
      ]
    },
    {
      "cell_type": "code",
      "metadata": {
        "colab": {
          "base_uri": "https://localhost:8080/"
        },
        "id": "df95f8d0",
        "outputId": "92774e82-b0ae-4548-ff96-63dc78426b76"
      },
      "source": [
        "# Method - 3\n",
        "data.apply(lambda x: x.isnull().sum())"
      ],
      "id": "df95f8d0",
      "execution_count": null,
      "outputs": [
        {
          "output_type": "execute_result",
          "data": {
            "text/plain": [
              "TV           0\n",
              "Radio        0\n",
              "Newspaper    0\n",
              "Sales        0\n",
              "dtype: int64"
            ]
          },
          "metadata": {},
          "execution_count": 11
        }
      ]
    },
    {
      "cell_type": "code",
      "metadata": {
        "colab": {
          "base_uri": "https://localhost:8080/",
          "height": 417
        },
        "id": "281790c4",
        "outputId": "12ec9f0f-ffaa-4b38-9830-03bdc1dd7840"
      },
      "source": [
        "# Impute the null values\n",
        "# Impute the nan values by the mean of the particular column\n",
        "\n",
        "from sklearn.impute import SimpleImputer\n",
        "import pandas as pd\n",
        "import numpy as np\n",
        "\n",
        "miss_mean_imputer = SimpleImputer(missing_values=np.nan, strategy='mean') \n",
        "# Should use \"mean\" if it is normally distributed & if not then \"median\"\n",
        "miss_mean_imputer = miss_mean_imputer.fit(data)\n",
        "imputed_data = miss_mean_imputer.transform(data.values)\n",
        "pd.DataFrame(imputed_data, columns = ['TV', 'Radio', 'Newspaper', 'Sales'])"
      ],
      "id": "281790c4",
      "execution_count": null,
      "outputs": [
        {
          "output_type": "execute_result",
          "data": {
            "text/html": [
              "<div>\n",
              "<style scoped>\n",
              "    .dataframe tbody tr th:only-of-type {\n",
              "        vertical-align: middle;\n",
              "    }\n",
              "\n",
              "    .dataframe tbody tr th {\n",
              "        vertical-align: top;\n",
              "    }\n",
              "\n",
              "    .dataframe thead th {\n",
              "        text-align: right;\n",
              "    }\n",
              "</style>\n",
              "<table border=\"1\" class=\"dataframe\">\n",
              "  <thead>\n",
              "    <tr style=\"text-align: right;\">\n",
              "      <th></th>\n",
              "      <th>TV</th>\n",
              "      <th>Radio</th>\n",
              "      <th>Newspaper</th>\n",
              "      <th>Sales</th>\n",
              "    </tr>\n",
              "  </thead>\n",
              "  <tbody>\n",
              "    <tr>\n",
              "      <th>0</th>\n",
              "      <td>230.1</td>\n",
              "      <td>37.8</td>\n",
              "      <td>69.2</td>\n",
              "      <td>22.1</td>\n",
              "    </tr>\n",
              "    <tr>\n",
              "      <th>1</th>\n",
              "      <td>44.5</td>\n",
              "      <td>39.3</td>\n",
              "      <td>45.1</td>\n",
              "      <td>10.4</td>\n",
              "    </tr>\n",
              "    <tr>\n",
              "      <th>2</th>\n",
              "      <td>17.2</td>\n",
              "      <td>45.9</td>\n",
              "      <td>69.3</td>\n",
              "      <td>9.3</td>\n",
              "    </tr>\n",
              "    <tr>\n",
              "      <th>3</th>\n",
              "      <td>151.5</td>\n",
              "      <td>41.3</td>\n",
              "      <td>58.5</td>\n",
              "      <td>18.5</td>\n",
              "    </tr>\n",
              "    <tr>\n",
              "      <th>4</th>\n",
              "      <td>180.8</td>\n",
              "      <td>10.8</td>\n",
              "      <td>58.4</td>\n",
              "      <td>12.9</td>\n",
              "    </tr>\n",
              "    <tr>\n",
              "      <th>...</th>\n",
              "      <td>...</td>\n",
              "      <td>...</td>\n",
              "      <td>...</td>\n",
              "      <td>...</td>\n",
              "    </tr>\n",
              "    <tr>\n",
              "      <th>195</th>\n",
              "      <td>38.2</td>\n",
              "      <td>3.7</td>\n",
              "      <td>13.8</td>\n",
              "      <td>7.6</td>\n",
              "    </tr>\n",
              "    <tr>\n",
              "      <th>196</th>\n",
              "      <td>94.2</td>\n",
              "      <td>4.9</td>\n",
              "      <td>8.1</td>\n",
              "      <td>9.7</td>\n",
              "    </tr>\n",
              "    <tr>\n",
              "      <th>197</th>\n",
              "      <td>177.0</td>\n",
              "      <td>9.3</td>\n",
              "      <td>6.4</td>\n",
              "      <td>12.8</td>\n",
              "    </tr>\n",
              "    <tr>\n",
              "      <th>198</th>\n",
              "      <td>283.6</td>\n",
              "      <td>42.0</td>\n",
              "      <td>66.2</td>\n",
              "      <td>25.5</td>\n",
              "    </tr>\n",
              "    <tr>\n",
              "      <th>199</th>\n",
              "      <td>232.1</td>\n",
              "      <td>8.6</td>\n",
              "      <td>8.7</td>\n",
              "      <td>13.4</td>\n",
              "    </tr>\n",
              "  </tbody>\n",
              "</table>\n",
              "<p>200 rows × 4 columns</p>\n",
              "</div>"
            ],
            "text/plain": [
              "        TV  Radio  Newspaper  Sales\n",
              "0    230.1   37.8       69.2   22.1\n",
              "1     44.5   39.3       45.1   10.4\n",
              "2     17.2   45.9       69.3    9.3\n",
              "3    151.5   41.3       58.5   18.5\n",
              "4    180.8   10.8       58.4   12.9\n",
              "..     ...    ...        ...    ...\n",
              "195   38.2    3.7       13.8    7.6\n",
              "196   94.2    4.9        8.1    9.7\n",
              "197  177.0    9.3        6.4   12.8\n",
              "198  283.6   42.0       66.2   25.5\n",
              "199  232.1    8.6        8.7   13.4\n",
              "\n",
              "[200 rows x 4 columns]"
            ]
          },
          "metadata": {},
          "execution_count": 12
        }
      ]
    },
    {
      "cell_type": "markdown",
      "metadata": {
        "id": "83969f24"
      },
      "source": [
        "## Zero Variance check"
      ],
      "id": "83969f24"
    },
    {
      "cell_type": "code",
      "metadata": {
        "colab": {
          "base_uri": "https://localhost:8080/"
        },
        "id": "305e144d",
        "outputId": "9b7c19fb-e8c8-4f5b-9f8f-b9e0b3ec4cbe"
      },
      "source": [
        "# Zero Variance check \n",
        "# - Check for columns with 1 unique values. If found then drop those columns.\n",
        "# - Check if the numerical columns have less unique values. If found then drop those columns.\n",
        "\n",
        "print(data.nunique())"
      ],
      "id": "305e144d",
      "execution_count": null,
      "outputs": [
        {
          "output_type": "stream",
          "name": "stdout",
          "text": [
            "TV           190\n",
            "Radio        167\n",
            "Newspaper    172\n",
            "Sales        121\n",
            "dtype: int64\n"
          ]
        }
      ]
    },
    {
      "cell_type": "markdown",
      "metadata": {
        "id": "47b4ddd8"
      },
      "source": [
        "## Duplicate values"
      ],
      "id": "47b4ddd8"
    },
    {
      "cell_type": "code",
      "metadata": {
        "colab": {
          "base_uri": "https://localhost:8080/"
        },
        "id": "0e19c4d9",
        "outputId": "d879f358-8133-414b-a415-c833c1e62d96"
      },
      "source": [
        "# Duplicate data\n",
        "# - Check if any data contains duplicated rows.\n",
        "\n",
        "dups = data.duplicated()\n",
        "# # report if there are any duplicates\n",
        "print(dups.any())"
      ],
      "id": "0e19c4d9",
      "execution_count": null,
      "outputs": [
        {
          "output_type": "stream",
          "name": "stdout",
          "text": [
            "False\n"
          ]
        }
      ]
    },
    {
      "cell_type": "markdown",
      "metadata": {
        "id": "981f2797"
      },
      "source": [
        "## Correlation check"
      ],
      "id": "981f2797"
    },
    {
      "cell_type": "code",
      "metadata": {
        "colab": {
          "base_uri": "https://localhost:8080/",
          "height": 332
        },
        "id": "73892136",
        "outputId": "c74b7ebd-ec4e-4413-b2ff-d139712aa33d"
      },
      "source": [
        "# heat map for correlation check\n",
        "\n",
        "import matplotlib.pyplot as plt\n",
        "import seaborn as sns\n",
        "import numpy as np\n",
        "import pandas as pd\n",
        "\n",
        "plt.figure(figsize = (7,5)) # Choose size depening on the required figure size\n",
        "corrmat = data.corr()\n",
        "k = 4 # number of varialbes for heat map\n",
        "cols = corrmat.nlargest(k, 'TV')['TV'].index\n",
        "cm = np.corrcoef(data[cols].values.T)\n",
        "sns.set(font_scale = 1.25)\n",
        "hm = sns.heatmap(cm, cbar=True, annot=True, square=True, fmt='.2f', annot_kws={'size': 10},\n",
        "                 yticklabels=cols.values, xticklabels=cols.values)"
      ],
      "id": "73892136",
      "execution_count": null,
      "outputs": [
        {
          "output_type": "display_data",
          "data": {
            "image/png": "[encoded data removed]",
            "text/plain": [
              "<Figure size 504x360 with 2 Axes>"
            ]
          },
          "metadata": {
            "needs_background": "light"
          }
        }
      ]
    },
    {
      "cell_type": "markdown",
      "metadata": {
        "id": "33b1a32a"
      },
      "source": [
        "## Function to remove highly correlated columns"
      ],
      "id": "33b1a32a"
    },
    {
      "cell_type": "code",
      "metadata": {
        "id": "915c9463"
      },
      "source": [
        "# Run the correlation matrix and drop the high correlated columns\n",
        "# - Function to find the correlated columns and drop from the data set.\n",
        "\n",
        "def drop_correlated(dataset):\n",
        "    import numpy as np\n",
        "    import pandas as pd\n",
        "    \n",
        "    try:\n",
        "        # Read the data set. Considering it as a csv file as input.\n",
        "        df = pd.read_csv(dataset) \n",
        "        \n",
        "        # Create a correlation matrix and turn to absolute values\n",
        "        corrmat = df.corr().abs() \n",
        "        \n",
        "        # Selection of the upper traingle from correlation matrix.Used the condition of one array matrix with boolean check.\n",
        "        up_tri = corrmat.where(np.triu(np.ones(corrmat.shape),k=1).astype(np.bool)) \n",
        "        \n",
        "        # list of columns with high correlation > 0.75. List comprehension by condition\n",
        "        todrop = [col for col in up_tri.columns if any(up_tri[col] > 0.75)]   \n",
        "        \n",
        "        # drop the columns with high correlation \n",
        "        df1 = df.drop(todrop, axis=1)  \n",
        "        \n",
        "        # output dataset with dropped columns of high correlation. For next steps of model building.\n",
        "        return df1  \n",
        "    \n",
        "    except:\n",
        "        print('The data entered is not correct. Please follow the below format')\n",
        "        print(\"drop_correlated('dataset.csv')\")\n",
        "        "
      ],
      "id": "915c9463",
      "execution_count": null,
      "outputs": []
    },
    {
      "cell_type": "code",
      "metadata": {
        "colab": {
          "base_uri": "https://localhost:8080/"
        },
        "id": "38f29d98",
        "outputId": "52eec643-90d3-4410-e3ae-76dd1ad01047"
      },
      "source": [
        "print('Shape before')\n",
        "print(data.shape)\n",
        "data_new = drop_correlated('/content/drive/MyDrive/Datasets/Templates/Advertising.csv')\n",
        "print('Shape after')\n",
        "print(data_new.shape)"
      ],
      "id": "38f29d98",
      "execution_count": null,
      "outputs": [
        {
          "output_type": "stream",
          "name": "stdout",
          "text": [
            "Shape before\n",
            "(200, 4)\n",
            "Shape after\n",
            "(200, 3)\n"
          ]
        }
      ]
    },
    {
      "cell_type": "markdown",
      "metadata": {
        "id": "e3d3d7e7"
      },
      "source": [
        "## Checking outliers"
      ],
      "id": "e3d3d7e7"
    },
    {
      "cell_type": "code",
      "metadata": {
        "colab": {
          "base_uri": "https://localhost:8080/"
        },
        "id": "6592fa7f",
        "outputId": "cfcd8e8b-9c3d-4d45-9016-0c490fd208ff"
      },
      "source": [
        "#Finding Outliers\n",
        "#IQR Method\n",
        "\n",
        "import numpy as np\n",
        "\n",
        "def Outlier_detection(var):\n",
        "    Q1, Q3 = np.percentile(var, [25,75])\n",
        "    IQR = Q3-Q1\n",
        "    lower_bound = Q1 - (IQR * 1.5)\n",
        "    upper_bound = Q3 + (IQR * 1.5)\n",
        "    out = [var for var in var if (var > upper_bound) or (var < lower_bound)]\n",
        "    \n",
        "    #return np.where((var > upper_bound) | (var < lower_bound))\n",
        "    return out\n",
        "\n",
        "data_array_1 = [1, 2, 2, 2, 3, 1, 1, 15, 2, 2, 2, 3, -18,1, 1, 2]\n",
        "Outlier_detection(data_array_1)"
      ],
      "id": "6592fa7f",
      "execution_count": null,
      "outputs": [
        {
          "output_type": "execute_result",
          "data": {
            "text/plain": [
              "[15, -18]"
            ]
          },
          "metadata": {},
          "execution_count": 19
        }
      ]
    },
    {
      "cell_type": "code",
      "metadata": {
        "id": "0794e93f"
      },
      "source": [
        "def outlier_cap(x):\n",
        "    x=x.clip(lower=x.quantile(0.01))\n",
        "    x=x.clip(upper=x.quantile(0.99))\n",
        "    return(x)\n",
        "\n",
        "# num=num.apply(lambda x : outlier_cap(x))"
      ],
      "id": "0794e93f",
      "execution_count": null,
      "outputs": []
    },
    {
      "cell_type": "code",
      "metadata": {
        "colab": {
          "base_uri": "https://localhost:8080/"
        },
        "id": "fdf1de60",
        "outputId": "c8260c58-8f27-4257-f112-833102f1a4a8"
      },
      "source": [
        "#Finding Outliers\n",
        "#Z-Score Method\n",
        "\n",
        "import numpy as np\n",
        "data_array_2 = [1, 2, 2, 2, 3, 1, 1, 15, 2, 2, 2, 3, 1, 1, 2] \n",
        "mean = np.mean(data_array_2) \n",
        "std = np.std(data_array_2)\n",
        "\n",
        "print('mean of the dataset is', mean) \n",
        "print('std. deviation is', std) \n",
        "\n",
        "threshold = 3\n",
        "outlier = [] \n",
        "for i in data_array_2: \n",
        "    z = (i-mean)/std \n",
        "    if z > threshold: \n",
        "        outlier.append(i) \n",
        "print('outlier in dataset is', outlier)"
      ],
      "id": "fdf1de60",
      "execution_count": null,
      "outputs": [
        {
          "output_type": "stream",
          "name": "stdout",
          "text": [
            "mean of the dataset is 2.6666666666666665\n",
            "std. deviation is 3.3598941782277745\n",
            "outlier in dataset is [15]\n"
          ]
        }
      ]
    },
    {
      "cell_type": "code",
      "metadata": {
        "colab": {
          "base_uri": "https://localhost:8080/",
          "height": 289
        },
        "id": "33b6837b",
        "outputId": "86273c69-5b56-487a-93cf-7cd8ee71e237"
      },
      "source": [
        "# Box plot to find outliers\n",
        "\n",
        "import pandas as pd\n",
        "import numpy as np\n",
        "\n",
        "data.plot.box()"
      ],
      "id": "33b6837b",
      "execution_count": null,
      "outputs": [
        {
          "output_type": "execute_result",
          "data": {
            "text/plain": [
              "<matplotlib.axes._subplots.AxesSubplot at 0x7ff1817bef50>"
            ]
          },
          "metadata": {},
          "execution_count": 22
        },
        {
          "output_type": "display_data",
          "data": {
            "image/png": "[encoded data removed]",
            "text/plain": [
              "<Figure size 432x288 with 1 Axes>"
            ]
          },
          "metadata": {}
        }
      ]
    },
    {
      "cell_type": "markdown",
      "metadata": {
        "id": "41135204"
      },
      "source": [
        "## Data visualization of data by exploratory data analysis"
      ],
      "id": "41135204"
    },
    {
      "cell_type": "code",
      "metadata": {
        "id": "ad157c94"
      },
      "source": [
        "## Add data as & when found"
      ],
      "id": "ad157c94",
      "execution_count": null,
      "outputs": []
    },
    {
      "cell_type": "markdown",
      "metadata": {
        "id": "dcb4cb00"
      },
      "source": [
        "## Data preprocessing (Label encoding or One hot encoding)"
      ],
      "id": "dcb4cb00"
    },
    {
      "cell_type": "code",
      "metadata": {
        "id": "29500e0c"
      },
      "source": [
        "# Data preprocessing to be done only if there are any categorical varaibles\n",
        "\n",
        "# Function for label encoding\n",
        "\n",
        "from sklearn import preprocessing\n",
        "def preprocessor(df):\n",
        "    res_df = df.copy()\n",
        "    le = preprocessing.LabelEncoder()\n",
        "    \n",
        "    # Specify all the categorical columns to be label encoded\n",
        "    res_df['TV'] = le.fit_transform(res_df['TV'])\n",
        "    res_df['Radio'] = le.fit_transform(res_df['Radio'])\n",
        "    res_df['Newspaper'] = le.fit_transform(res_df['Newspaper'])\n",
        "    return res_df\n",
        "\n",
        "# encoded_data = preprocessor(data)  # Outputs the encoded data"
      ],
      "id": "29500e0c",
      "execution_count": null,
      "outputs": []
    },
    {
      "cell_type": "markdown",
      "metadata": {
        "id": "94944012"
      },
      "source": [
        "## Splitting Input & output Variables (Feature selection)"
      ],
      "id": "94944012"
    },
    {
      "cell_type": "code",
      "metadata": {
        "id": "1b1be80b"
      },
      "source": [
        "# Splitting the columns to input varaibles(independent variables) & output variable(Dependent variable)\n",
        "\n",
        "x = data.drop('Sales', axis = 1).values\n",
        "y = data['Sales'].values\n",
        "\n",
        "\n",
        "# If necessary keep it in any array(.values) depending on the type of algorithm used."
      ],
      "id": "1b1be80b",
      "execution_count": null,
      "outputs": []
    },
    {
      "cell_type": "markdown",
      "metadata": {
        "id": "b02e026b"
      },
      "source": [
        "## Data transformation (Standardization or Normaliztion)"
      ],
      "id": "b02e026b"
    },
    {
      "cell_type": "code",
      "metadata": {
        "colab": {
          "base_uri": "https://localhost:8080/"
        },
        "id": "07b7fea3",
        "outputId": "818cf1e5-ed26-44e0-9db2-dde0a8b88cb7"
      },
      "source": [
        "# Standardization\n",
        "\n",
        "from sklearn.preprocessing import StandardScaler\n",
        "\n",
        "sc = StandardScaler()\n",
        "x = sc.fit_transform(x)\n",
        "\n",
        "mean = np.mean(x, axis=0)\n",
        "print('Mean: (%d, %d)' % (mean[0], mean[1]))\n",
        "standard_deviation = np.std(x, axis=0)\n",
        "print('Standard deviation: (%d, %d)' % (standard_deviation[0], standard_deviation[1]))"
      ],
      "id": "07b7fea3",
      "execution_count": null,
      "outputs": [
        {
          "output_type": "stream",
          "name": "stdout",
          "text": [
            "Mean: (0, 0)\n",
            "Standard deviation: (1, 1)\n"
          ]
        }
      ]
    },
    {
      "cell_type": "markdown",
      "metadata": {
        "id": "92dbefeb"
      },
      "source": [
        "## Train Test Split"
      ],
      "id": "92dbefeb"
    },
    {
      "cell_type": "code",
      "metadata": {
        "id": "67d0fa74"
      },
      "source": [
        "from sklearn.model_selection import train_test_split\n",
        "\n",
        "x_train, x_test, y_train, y_test = train_test_split(x, y, test_size = 0.2, random_state = 0)"
      ],
      "id": "67d0fa74",
      "execution_count": null,
      "outputs": []
    },
    {
      "cell_type": "code",
      "metadata": {
        "id": "sWnQT6E2QXlW"
      },
      "source": [
        ""
      ],
      "id": "sWnQT6E2QXlW",
      "execution_count": null,
      "outputs": []
    }
  ]
}