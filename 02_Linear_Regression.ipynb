{
  "nbformat": 4,
  "nbformat_minor": 5,
  "metadata": {
    "kernelspec": {
      "display_name": "Python 3",
      "language": "python",
      "name": "python3"
    },
    "language_info": {
      "codemirror_mode": {
        "name": "ipython",
        "version": 3
      },
      "file_extension": ".py",
      "mimetype": "text/x-python",
      "name": "python",
      "nbconvert_exporter": "python",
      "pygments_lexer": "ipython3",
      "version": "3.7.10"
    },
    "colab": {
      "name": "02_Linear Regression.ipynb",
      "provenance": [],
      "collapsed_sections": [],
      "include_colab_link": true
    }
  },
  "cells": [
    {
      "cell_type": "markdown",
      "metadata": {
        "id": "view-in-github",
        "colab_type": "text"
      },
      "source": [
        "<a href=\"https://colab.research.google.com/github/nupatige/Templates_Machine-learning/blob/main/02_Linear_Regression.ipynb\" target=\"_parent\"><img src=\"https://colab.research.google.com/assets/colab-badge.svg\" alt=\"Open In Colab\"/></a>"
      ]
    },
    {
      "cell_type": "markdown",
      "metadata": {
        "id": "4f7d2eee"
      },
      "source": [
        "## Import the libraries"
      ],
      "id": "4f7d2eee"
    },
    {
      "cell_type": "code",
      "metadata": {
        "colab": {
          "base_uri": "https://localhost:8080/"
        },
        "id": "maJJmGk8RJdc",
        "outputId": "c3d700d4-2138-4af3-fe8b-aafeba5b3d86"
      },
      "source": [
        "from google.colab import drive\n",
        "drive.mount('/content/drive')"
      ],
      "id": "maJJmGk8RJdc",
      "execution_count": null,
      "outputs": [
        {
          "output_type": "stream",
          "name": "stdout",
          "text": [
            "Mounted at /content/drive\n"
          ]
        }
      ]
    },
    {
      "cell_type": "code",
      "metadata": {
        "colab": {
          "base_uri": "https://localhost:8080/"
        },
        "id": "5cb40b39",
        "outputId": "e04635fa-edd4-443b-ef81-f40eab4747e6"
      },
      "source": [
        "# imports\n",
        "import numpy as np\n",
        "import pandas as pd\n",
        "import seaborn as sns\n",
        "import statsmodels.formula.api as smf  \n",
        "from sklearn.linear_model import LinearRegression\n",
        "from sklearn import metrics\n",
        "from sklearn.model_selection import train_test_split\n",
        "\n",
        "# allow plots to appear directly in the notebook\n",
        "%matplotlib inline"
      ],
      "id": "5cb40b39",
      "execution_count": null,
      "outputs": [
        {
          "output_type": "stream",
          "name": "stderr",
          "text": [
            "/usr/local/lib/python3.7/dist-packages/statsmodels/tools/_testing.py:19: FutureWarning: pandas.util.testing is deprecated. Use the functions in the public API at pandas.testing instead.\n",
            "  import pandas.util.testing as tm\n"
          ]
        }
      ]
    },
    {
      "cell_type": "markdown",
      "metadata": {
        "id": "6065b55e"
      },
      "source": [
        "## Read the data"
      ],
      "id": "6065b55e"
    },
    {
      "cell_type": "code",
      "metadata": {
        "colab": {
          "base_uri": "https://localhost:8080/",
          "height": 203
        },
        "id": "8875f7ce",
        "outputId": "46f5f8bc-a7e2-4176-94de-8693365d6ab4"
      },
      "source": [
        "data = pd.read_csv('/content/drive/MyDrive/Datasets/Templates/Advertising.csv')\n",
        "data.head()"
      ],
      "id": "8875f7ce",
      "execution_count": null,
      "outputs": [
        {
          "output_type": "execute_result",
          "data": {
            "text/html": [
              "<div>\n",
              "<style scoped>\n",
              "    .dataframe tbody tr th:only-of-type {\n",
              "        vertical-align: middle;\n",
              "    }\n",
              "\n",
              "    .dataframe tbody tr th {\n",
              "        vertical-align: top;\n",
              "    }\n",
              "\n",
              "    .dataframe thead th {\n",
              "        text-align: right;\n",
              "    }\n",
              "</style>\n",
              "<table border=\"1\" class=\"dataframe\">\n",
              "  <thead>\n",
              "    <tr style=\"text-align: right;\">\n",
              "      <th></th>\n",
              "      <th>TV</th>\n",
              "      <th>Radio</th>\n",
              "      <th>Newspaper</th>\n",
              "      <th>Sales</th>\n",
              "    </tr>\n",
              "  </thead>\n",
              "  <tbody>\n",
              "    <tr>\n",
              "      <th>0</th>\n",
              "      <td>230.1</td>\n",
              "      <td>37.8</td>\n",
              "      <td>69.2</td>\n",
              "      <td>22.1</td>\n",
              "    </tr>\n",
              "    <tr>\n",
              "      <th>1</th>\n",
              "      <td>44.5</td>\n",
              "      <td>39.3</td>\n",
              "      <td>45.1</td>\n",
              "      <td>10.4</td>\n",
              "    </tr>\n",
              "    <tr>\n",
              "      <th>2</th>\n",
              "      <td>17.2</td>\n",
              "      <td>45.9</td>\n",
              "      <td>69.3</td>\n",
              "      <td>9.3</td>\n",
              "    </tr>\n",
              "    <tr>\n",
              "      <th>3</th>\n",
              "      <td>151.5</td>\n",
              "      <td>41.3</td>\n",
              "      <td>58.5</td>\n",
              "      <td>18.5</td>\n",
              "    </tr>\n",
              "    <tr>\n",
              "      <th>4</th>\n",
              "      <td>180.8</td>\n",
              "      <td>10.8</td>\n",
              "      <td>58.4</td>\n",
              "      <td>12.9</td>\n",
              "    </tr>\n",
              "  </tbody>\n",
              "</table>\n",
              "</div>"
            ],
            "text/plain": [
              "      TV  Radio  Newspaper  Sales\n",
              "0  230.1   37.8       69.2   22.1\n",
              "1   44.5   39.3       45.1   10.4\n",
              "2   17.2   45.9       69.3    9.3\n",
              "3  151.5   41.3       58.5   18.5\n",
              "4  180.8   10.8       58.4   12.9"
            ]
          },
          "metadata": {},
          "execution_count": 3
        }
      ]
    },
    {
      "cell_type": "markdown",
      "metadata": {
        "id": "3e10ec56"
      },
      "source": [
        "## Data information"
      ],
      "id": "3e10ec56"
    },
    {
      "cell_type": "code",
      "metadata": {
        "colab": {
          "base_uri": "https://localhost:8080/"
        },
        "id": "509ffec9",
        "outputId": "15198160-394f-4909-d74e-ca134d9dda3c"
      },
      "source": [
        "# shape of the DataFrame\n",
        "data.shape"
      ],
      "id": "509ffec9",
      "execution_count": null,
      "outputs": [
        {
          "output_type": "execute_result",
          "data": {
            "text/plain": [
              "(200, 4)"
            ]
          },
          "metadata": {},
          "execution_count": 4
        }
      ]
    },
    {
      "cell_type": "code",
      "metadata": {
        "colab": {
          "base_uri": "https://localhost:8080/",
          "height": 391
        },
        "id": "18eaa7e8",
        "outputId": "2ed1ff7c-a6d9-4188-bb12-e7cee41f1c72"
      },
      "source": [
        "# visualize the relationship between the features and the response using scatterplots\n",
        "sns.pairplot(data, x_vars=['TV','Radio','Newspaper'], y_vars='Sales', height=5)"
      ],
      "id": "18eaa7e8",
      "execution_count": null,
      "outputs": [
        {
          "output_type": "execute_result",
          "data": {
            "text/plain": [
              "<seaborn.axisgrid.PairGrid at 0x7fb737cad390>"
            ]
          },
          "metadata": {},
          "execution_count": 5
        },
        {
          "output_type": "display_data",
          "data": {
            "image/png": "[encoded data removed]",
            "text/plain": [
              "<Figure size 1080x360 with 3 Axes>"
            ]
          },
          "metadata": {
            "needs_background": "light"
          }
        }
      ]
    },
    {
      "cell_type": "markdown",
      "metadata": {
        "id": "510cbed1"
      },
      "source": [
        "## Linear regression with single input varaible"
      ],
      "id": "510cbed1"
    },
    {
      "cell_type": "markdown",
      "metadata": {
        "id": "06468333"
      },
      "source": [
        "### STATS Model"
      ],
      "id": "06468333"
    },
    {
      "cell_type": "code",
      "metadata": {
        "colab": {
          "base_uri": "https://localhost:8080/"
        },
        "id": "f82ece7d",
        "outputId": "65739e1f-93cf-474c-df32-90399166a373"
      },
      "source": [
        "### STATSMODELS ###\n",
        "\n",
        "# create a fitted model\n",
        "lm1 = smf.ols(formula='Sales ~ TV', data=data).fit()\n",
        "\n",
        "# print the coefficients\n",
        "lm1.params"
      ],
      "id": "f82ece7d",
      "execution_count": null,
      "outputs": [
        {
          "output_type": "execute_result",
          "data": {
            "text/plain": [
              "Intercept    7.032594\n",
              "TV           0.047537\n",
              "dtype: float64"
            ]
          },
          "metadata": {},
          "execution_count": 6
        }
      ]
    },
    {
      "cell_type": "code",
      "metadata": {
        "colab": {
          "base_uri": "https://localhost:8080/"
        },
        "id": "8b0c8d1a",
        "outputId": "3d643ff7-4505-4be9-fb46-2af3d8645f32"
      },
      "source": [
        "# you have to create a DataFrame since the Statsmodels formula interface expects it\n",
        "x_new = pd.DataFrame({'TV': [50]})\n",
        "\n",
        "# predict for a new observation\n",
        "lm1.predict(x_new)"
      ],
      "id": "8b0c8d1a",
      "execution_count": null,
      "outputs": [
        {
          "output_type": "execute_result",
          "data": {
            "text/plain": [
              "0    9.409426\n",
              "dtype: float64"
            ]
          },
          "metadata": {},
          "execution_count": 7
        }
      ]
    },
    {
      "cell_type": "code",
      "metadata": {
        "colab": {
          "base_uri": "https://localhost:8080/"
        },
        "id": "9f9cb244",
        "outputId": "90b14025-3f58-4987-c492-361b2a1a3248"
      },
      "source": [
        "# print the R-squared value for the model\n",
        "lm1.rsquared"
      ],
      "id": "9f9cb244",
      "execution_count": null,
      "outputs": [
        {
          "output_type": "execute_result",
          "data": {
            "text/plain": [
              "0.611875050850071"
            ]
          },
          "metadata": {},
          "execution_count": 8
        }
      ]
    },
    {
      "cell_type": "markdown",
      "metadata": {
        "id": "182a4dda"
      },
      "source": [
        "### SCIKIT-Learn Model"
      ],
      "id": "182a4dda"
    },
    {
      "cell_type": "code",
      "metadata": {
        "colab": {
          "base_uri": "https://localhost:8080/"
        },
        "id": "8f7165eb",
        "outputId": "a1a5e166-b4f1-4ca6-c305-64548009c01e"
      },
      "source": [
        "### SCIKIT-LEARN ###\n",
        "\n",
        "# create X and y\n",
        "feature_cols = ['TV']\n",
        "x = data[feature_cols]\n",
        "y = data.Sales\n",
        "\n",
        "# instantiate and fit\n",
        "lm2 = LinearRegression()\n",
        "lm2.fit(x, y)\n",
        "\n",
        "# print the coefficients\n",
        "print(lm2.intercept_)\n",
        "print(lm2.coef_)"
      ],
      "id": "8f7165eb",
      "execution_count": null,
      "outputs": [
        {
          "output_type": "stream",
          "name": "stdout",
          "text": [
            "7.032593549127695\n",
            "[0.04753664]\n"
          ]
        }
      ]
    },
    {
      "cell_type": "code",
      "metadata": {
        "colab": {
          "base_uri": "https://localhost:8080/"
        },
        "id": "cc5777c5",
        "outputId": "572d80fa-3c13-40c7-bdad-fa3bf05ee9fe"
      },
      "source": [
        "# predict for a new observation\n",
        "lm2.predict(np.array([[50]]))"
      ],
      "id": "cc5777c5",
      "execution_count": null,
      "outputs": [
        {
          "output_type": "execute_result",
          "data": {
            "text/plain": [
              "array([9.40942557])"
            ]
          },
          "metadata": {},
          "execution_count": 10
        }
      ]
    },
    {
      "cell_type": "code",
      "metadata": {
        "colab": {
          "base_uri": "https://localhost:8080/"
        },
        "id": "3b39f99b",
        "outputId": "fbecd17d-2daa-4244-b276-4c3d2a0762e4"
      },
      "source": [
        "# print the R-squared value for the model\n",
        "lm2.score(x, y)"
      ],
      "id": "3b39f99b",
      "execution_count": null,
      "outputs": [
        {
          "output_type": "execute_result",
          "data": {
            "text/plain": [
              "0.611875050850071"
            ]
          },
          "metadata": {},
          "execution_count": 11
        }
      ]
    },
    {
      "cell_type": "markdown",
      "metadata": {
        "id": "8c487a42"
      },
      "source": [
        "## Linear regression with multiple input variable"
      ],
      "id": "8c487a42"
    },
    {
      "cell_type": "markdown",
      "metadata": {
        "id": "09628ba4"
      },
      "source": [
        "### STATS Model"
      ],
      "id": "09628ba4"
    },
    {
      "cell_type": "code",
      "metadata": {
        "colab": {
          "base_uri": "https://localhost:8080/"
        },
        "id": "d45c550c",
        "outputId": "9f3ae230-66da-427c-ebd7-816a3eb476bc"
      },
      "source": [
        "### STATSMODELS ###\n",
        "\n",
        "# create a fitted model with all three features\n",
        "lm1 = smf.ols(formula='Sales ~ TV + Radio + Newspaper', data=data).fit()\n",
        "\n",
        "# print the coefficients\n",
        "lm1.params"
      ],
      "id": "d45c550c",
      "execution_count": null,
      "outputs": [
        {
          "output_type": "execute_result",
          "data": {
            "text/plain": [
              "Intercept    2.938889\n",
              "TV           0.045765\n",
              "Radio        0.188530\n",
              "Newspaper   -0.001037\n",
              "dtype: float64"
            ]
          },
          "metadata": {},
          "execution_count": 12
        }
      ]
    },
    {
      "cell_type": "code",
      "metadata": {
        "colab": {
          "base_uri": "https://localhost:8080/",
          "height": 473
        },
        "id": "f58d57d1",
        "outputId": "e66f0636-039c-4bdc-d4ae-25b0e8d38f1b"
      },
      "source": [
        "# print a summary of the fitted model\n",
        "lm1.summary()"
      ],
      "id": "f58d57d1",
      "execution_count": null,
      "outputs": [
        {
          "output_type": "execute_result",
          "data": {
            "text/html": [
              "<table class=\"simpletable\">\n",
              "<caption>OLS Regression Results</caption>\n",
              "<tr>\n",
              "  <th>Dep. Variable:</th>          <td>Sales</td>      <th>  R-squared:         </th> <td>   0.897</td>\n",
              "</tr>\n",
              "<tr>\n",
              "  <th>Model:</th>                   <td>OLS</td>       <th>  Adj. R-squared:    </th> <td>   0.896</td>\n",
              "</tr>\n",
              "<tr>\n",
              "  <th>Method:</th>             <td>Least Squares</td>  <th>  F-statistic:       </th> <td>   570.3</td>\n",
              "</tr>\n",
              "<tr>\n",
              "  <th>Date:</th>             <td>Tue, 12 Oct 2021</td> <th>  Prob (F-statistic):</th> <td>1.58e-96</td>\n",
              "</tr>\n",
              "<tr>\n",
              "  <th>Time:</th>                 <td>06:52:40</td>     <th>  Log-Likelihood:    </th> <td> -386.18</td>\n",
              "</tr>\n",
              "<tr>\n",
              "  <th>No. Observations:</th>      <td>   200</td>      <th>  AIC:               </th> <td>   780.4</td>\n",
              "</tr>\n",
              "<tr>\n",
              "  <th>Df Residuals:</th>          <td>   196</td>      <th>  BIC:               </th> <td>   793.6</td>\n",
              "</tr>\n",
              "<tr>\n",
              "  <th>Df Model:</th>              <td>     3</td>      <th>                     </th>     <td> </td>   \n",
              "</tr>\n",
              "<tr>\n",
              "  <th>Covariance Type:</th>      <td>nonrobust</td>    <th>                     </th>     <td> </td>   \n",
              "</tr>\n",
              "</table>\n",
              "<table class=\"simpletable\">\n",
              "<tr>\n",
              "      <td></td>         <th>coef</th>     <th>std err</th>      <th>t</th>      <th>P>|t|</th>  <th>[0.025</th>    <th>0.975]</th>  \n",
              "</tr>\n",
              "<tr>\n",
              "  <th>Intercept</th> <td>    2.9389</td> <td>    0.312</td> <td>    9.422</td> <td> 0.000</td> <td>    2.324</td> <td>    3.554</td>\n",
              "</tr>\n",
              "<tr>\n",
              "  <th>TV</th>        <td>    0.0458</td> <td>    0.001</td> <td>   32.809</td> <td> 0.000</td> <td>    0.043</td> <td>    0.049</td>\n",
              "</tr>\n",
              "<tr>\n",
              "  <th>Radio</th>     <td>    0.1885</td> <td>    0.009</td> <td>   21.893</td> <td> 0.000</td> <td>    0.172</td> <td>    0.206</td>\n",
              "</tr>\n",
              "<tr>\n",
              "  <th>Newspaper</th> <td>   -0.0010</td> <td>    0.006</td> <td>   -0.177</td> <td> 0.860</td> <td>   -0.013</td> <td>    0.011</td>\n",
              "</tr>\n",
              "</table>\n",
              "<table class=\"simpletable\">\n",
              "<tr>\n",
              "  <th>Omnibus:</th>       <td>60.414</td> <th>  Durbin-Watson:     </th> <td>   2.084</td>\n",
              "</tr>\n",
              "<tr>\n",
              "  <th>Prob(Omnibus):</th> <td> 0.000</td> <th>  Jarque-Bera (JB):  </th> <td> 151.241</td>\n",
              "</tr>\n",
              "<tr>\n",
              "  <th>Skew:</th>          <td>-1.327</td> <th>  Prob(JB):          </th> <td>1.44e-33</td>\n",
              "</tr>\n",
              "<tr>\n",
              "  <th>Kurtosis:</th>      <td> 6.332</td> <th>  Cond. No.          </th> <td>    454.</td>\n",
              "</tr>\n",
              "</table><br/><br/>Warnings:<br/>[1] Standard Errors assume that the covariance matrix of the errors is correctly specified."
            ],
            "text/plain": [
              "<class 'statsmodels.iolib.summary.Summary'>\n",
              "\"\"\"\n",
              "                            OLS Regression Results                            \n",
              "==============================================================================\n",
              "Dep. Variable:                  Sales   R-squared:                       0.897\n",
              "Model:                            OLS   Adj. R-squared:                  0.896\n",
              "Method:                 Least Squares   F-statistic:                     570.3\n",
              "Date:                Tue, 12 Oct 2021   Prob (F-statistic):           1.58e-96\n",
              "Time:                        06:52:40   Log-Likelihood:                -386.18\n",
              "No. Observations:                 200   AIC:                             780.4\n",
              "Df Residuals:                     196   BIC:                             793.6\n",
              "Df Model:                           3                                         \n",
              "Covariance Type:            nonrobust                                         \n",
              "==============================================================================\n",
              "                 coef    std err          t      P>|t|      [0.025      0.975]\n",
              "------------------------------------------------------------------------------\n",
              "Intercept      2.9389      0.312      9.422      0.000       2.324       3.554\n",
              "TV             0.0458      0.001     32.809      0.000       0.043       0.049\n",
              "Radio          0.1885      0.009     21.893      0.000       0.172       0.206\n",
              "Newspaper     -0.0010      0.006     -0.177      0.860      -0.013       0.011\n",
              "==============================================================================\n",
              "Omnibus:                       60.414   Durbin-Watson:                   2.084\n",
              "Prob(Omnibus):                  0.000   Jarque-Bera (JB):              151.241\n",
              "Skew:                          -1.327   Prob(JB):                     1.44e-33\n",
              "Kurtosis:                       6.332   Cond. No.                         454.\n",
              "==============================================================================\n",
              "\n",
              "Warnings:\n",
              "[1] Standard Errors assume that the covariance matrix of the errors is correctly specified.\n",
              "\"\"\""
            ]
          },
          "metadata": {},
          "execution_count": 13
        }
      ]
    },
    {
      "cell_type": "code",
      "metadata": {
        "colab": {
          "base_uri": "https://localhost:8080/"
        },
        "id": "d1efdb35",
        "outputId": "5757ee4b-9fd1-44e3-a6d9-385b72b9887f"
      },
      "source": [
        "# you have to create a DataFrame since the Statsmodels formula interface expects it\n",
        "x_new = pd.DataFrame({'TV': [50], 'Radio':[35], 'Newspaper' : [45]})\n",
        "\n",
        "# predict for a new observation\n",
        "lm1.predict(x_new)"
      ],
      "id": "d1efdb35",
      "execution_count": null,
      "outputs": [
        {
          "output_type": "execute_result",
          "data": {
            "text/plain": [
              "0    11.778985\n",
              "dtype: float64"
            ]
          },
          "metadata": {},
          "execution_count": 14
        }
      ]
    },
    {
      "cell_type": "markdown",
      "metadata": {
        "id": "2dcb1534"
      },
      "source": [
        "### SCIKIT Learn Model"
      ],
      "id": "2dcb1534"
    },
    {
      "cell_type": "code",
      "metadata": {
        "colab": {
          "base_uri": "https://localhost:8080/"
        },
        "id": "c9693615",
        "outputId": "ee3f4ade-c71a-45f1-8526-cbd534e029c6"
      },
      "source": [
        "### SCIKIT-LEARN ###\n",
        "\n",
        "# create X and y\n",
        "feature_cols = ['TV', 'Radio', 'Newspaper']\n",
        "x = data[feature_cols]\n",
        "y = data.Sales\n",
        "\n",
        "# instantiate and fit\n",
        "lm2 = LinearRegression()\n",
        "lm2.fit(x, y)\n",
        "\n",
        "# print the coefficients\n",
        "print(lm2.intercept_)\n",
        "print(lm2.coef_)"
      ],
      "id": "c9693615",
      "execution_count": null,
      "outputs": [
        {
          "output_type": "stream",
          "name": "stdout",
          "text": [
            "2.938889369459412\n",
            "[ 0.04576465  0.18853002 -0.00103749]\n"
          ]
        }
      ]
    },
    {
      "cell_type": "code",
      "metadata": {
        "colab": {
          "base_uri": "https://localhost:8080/"
        },
        "id": "1cfc9218",
        "outputId": "0823d6d2-93cb-440e-bcc4-57f48c047014"
      },
      "source": [
        "# pair the feature names with the coefficients\n",
        "list(zip(feature_cols, lm2.coef_))"
      ],
      "id": "1cfc9218",
      "execution_count": null,
      "outputs": [
        {
          "output_type": "execute_result",
          "data": {
            "text/plain": [
              "[('TV', 0.0457646454553976),\n",
              " ('Radio', 0.18853001691820448),\n",
              " ('Newspaper', -0.0010374930424763285)]"
            ]
          },
          "metadata": {},
          "execution_count": 16
        }
      ]
    },
    {
      "cell_type": "code",
      "metadata": {
        "colab": {
          "base_uri": "https://localhost:8080/"
        },
        "id": "49788eae",
        "outputId": "be03fb6c-2a04-4e60-a7f8-1ffca694b759"
      },
      "source": [
        "# predict for a new observation\n",
        "lm2.predict(np.array([[50,35,45]]))"
      ],
      "id": "49788eae",
      "execution_count": null,
      "outputs": [
        {
          "output_type": "execute_result",
          "data": {
            "text/plain": [
              "array([11.77898505])"
            ]
          },
          "metadata": {},
          "execution_count": 17
        }
      ]
    },
    {
      "cell_type": "code",
      "metadata": {
        "colab": {
          "base_uri": "https://localhost:8080/"
        },
        "id": "02319944",
        "outputId": "cca1c50c-7c72-47b5-e0a8-732b001eba38"
      },
      "source": [
        "# print the R-squared value for the model\n",
        "lm2.score(x, y)"
      ],
      "id": "02319944",
      "execution_count": null,
      "outputs": [
        {
          "output_type": "execute_result",
          "data": {
            "text/plain": [
              "0.8972106381789521"
            ]
          },
          "metadata": {},
          "execution_count": 18
        }
      ]
    },
    {
      "cell_type": "markdown",
      "metadata": {
        "id": "9c3bac2a"
      },
      "source": [
        "## Feature selection"
      ],
      "id": "9c3bac2a"
    },
    {
      "cell_type": "markdown",
      "metadata": {
        "id": "157c38ce"
      },
      "source": [
        "### STATS Model"
      ],
      "id": "157c38ce"
    },
    {
      "cell_type": "code",
      "metadata": {
        "colab": {
          "base_uri": "https://localhost:8080/"
        },
        "id": "4c2b8448",
        "outputId": "e85ae790-2451-49fb-9409-c13d44acb1ff"
      },
      "source": [
        "### STATSMODELS ###\n",
        "\n",
        "# only include TV and Radio in the model\n",
        "\n",
        "# instantiate and fit model\n",
        "lm1 = smf.ols(formula='Sales ~ TV + Radio', data=data).fit()\n",
        "\n",
        "# calculate r-square & Adj.square\n",
        "print('R_Square = {0}'.format(lm1.rsquared))\n",
        "print('Adjusted_R_Square = {0}'.format(lm1.rsquared_adj))\n"
      ],
      "id": "4c2b8448",
      "execution_count": null,
      "outputs": [
        {
          "output_type": "stream",
          "name": "stdout",
          "text": [
            "R_Square = 0.8971942610828956\n",
            "Adjusted_R_Square = 0.8961505479974428\n"
          ]
        }
      ]
    },
    {
      "cell_type": "code",
      "metadata": {
        "colab": {
          "base_uri": "https://localhost:8080/"
        },
        "id": "2aaa50c2",
        "outputId": "5930d87f-fb12-46bf-aac1-5ba710f6fd26"
      },
      "source": [
        "# add Newspaper to the model (which we believe has no association with Sales)\n",
        "# Calculate Adj R2 and then decide on the independent variables to choose for modelling\n",
        "\n",
        "lm1 = smf.ols(formula='Sales ~ TV + Radio + Newspaper', data=data).fit()\n",
        "\n",
        "print('R_Square = {0}'.format(lm1.rsquared))\n",
        "print('Adjusted_R_Square = {0}'.format(lm1.rsquared_adj))"
      ],
      "id": "2aaa50c2",
      "execution_count": null,
      "outputs": [
        {
          "output_type": "stream",
          "name": "stdout",
          "text": [
            "R_Square = 0.8972106381789522\n",
            "Adjusted_R_Square = 0.8956373316204668\n"
          ]
        }
      ]
    },
    {
      "cell_type": "code",
      "metadata": {
        "id": "7b777d77"
      },
      "source": [
        "# Similary calculate the R2 & Adj R2 for all combinations of independent variables & then decide which independent\n",
        "# variables to be choosen."
      ],
      "id": "7b777d77",
      "execution_count": null,
      "outputs": []
    },
    {
      "cell_type": "markdown",
      "metadata": {
        "id": "42c48f3a"
      },
      "source": [
        "### SCIKIT Learn Model"
      ],
      "id": "42c48f3a"
    },
    {
      "cell_type": "code",
      "metadata": {
        "colab": {
          "base_uri": "https://localhost:8080/"
        },
        "id": "4aae4877",
        "outputId": "88d67e9c-0bf3-4fb3-9e9a-5a0926806bc3"
      },
      "source": [
        "### SCIKIT-LEARN ###\n",
        "\n",
        "# create X and y\n",
        "feature_cols = ['TV', 'Radio']\n",
        "x = data[feature_cols]\n",
        "y = data.Sales\n",
        "\n",
        "# instantiate and fit\n",
        "lm2 = LinearRegression()\n",
        "lm2.fit(x, y)\n",
        "\n",
        "# print the coefficients\n",
        "print(lm2.intercept_)\n",
        "print(lm2.coef_)"
      ],
      "id": "4aae4877",
      "execution_count": null,
      "outputs": [
        {
          "output_type": "stream",
          "name": "stdout",
          "text": [
            "2.921099912405138\n",
            "[0.04575482 0.18799423]\n"
          ]
        }
      ]
    },
    {
      "cell_type": "code",
      "metadata": {
        "colab": {
          "base_uri": "https://localhost:8080/"
        },
        "id": "b689b17d",
        "outputId": "4dd1b1c9-9146-4b7e-d272-937ba81ec662"
      },
      "source": [
        "# pair the feature names with the coefficients\n",
        "list(zip(feature_cols, lm2.coef_))"
      ],
      "id": "b689b17d",
      "execution_count": null,
      "outputs": [
        {
          "output_type": "execute_result",
          "data": {
            "text/plain": [
              "[('TV', 0.045754815101076145), ('Radio', 0.18799422662030918)]"
            ]
          },
          "metadata": {},
          "execution_count": 23
        }
      ]
    },
    {
      "cell_type": "code",
      "metadata": {
        "colab": {
          "base_uri": "https://localhost:8080/"
        },
        "id": "2255ee2a",
        "outputId": "0b52b7f2-d5f2-4919-fcb9-770dd49ef0d2"
      },
      "source": [
        "# print the R-squared  #Adj.square value for the model\n",
        "\n",
        "print('R_Square = {0}'.format(lm2.score(x, y)))\n",
        "\n",
        "Adj_R2 = 1 - (1-lm2.score(x, y))*(len(y)-1)/(len(y)-x.shape[1]-1)\n",
        "print('Adjusted_R_Square = {0}'.format(Adj_R2))\n",
        "\n"
      ],
      "id": "2255ee2a",
      "execution_count": null,
      "outputs": [
        {
          "output_type": "stream",
          "name": "stdout",
          "text": [
            "R_Square = 0.8971942610828956\n",
            "Adjusted_R_Square = 0.8961505479974428\n"
          ]
        }
      ]
    },
    {
      "cell_type": "code",
      "metadata": {
        "colab": {
          "base_uri": "https://localhost:8080/"
        },
        "id": "c30a9013",
        "outputId": "6691cad5-3366-43bf-f5e4-de1d8be6b360"
      },
      "source": [
        "# add Newspaper to the model (which we believe has no association with Sales) as calculated before the Adjusted R2 \n",
        "# does not change\n",
        "# Calculate Adj R2 and then decide on the independent variables to choose for modelling\n",
        "\n",
        "# create X and y\n",
        "feature_cols = ['TV', 'Radio', 'Newspaper']\n",
        "x = data[feature_cols]\n",
        "y = data.Sales\n",
        "\n",
        "# instantiate and fit\n",
        "lm2 = LinearRegression()\n",
        "lm2.fit(x, y)\n",
        "\n",
        "# print the coefficients\n",
        "print(lm2.intercept_)\n",
        "print(lm2.coef_)"
      ],
      "id": "c30a9013",
      "execution_count": null,
      "outputs": [
        {
          "output_type": "stream",
          "name": "stdout",
          "text": [
            "2.938889369459412\n",
            "[ 0.04576465  0.18853002 -0.00103749]\n"
          ]
        }
      ]
    },
    {
      "cell_type": "code",
      "metadata": {
        "colab": {
          "base_uri": "https://localhost:8080/"
        },
        "id": "44b8be71",
        "outputId": "41af47ae-82fb-4937-f591-2af65329a1b7"
      },
      "source": [
        "# pair the feature names with the coefficients\n",
        "list(zip(feature_cols, lm2.coef_))"
      ],
      "id": "44b8be71",
      "execution_count": null,
      "outputs": [
        {
          "output_type": "execute_result",
          "data": {
            "text/plain": [
              "[('TV', 0.0457646454553976),\n",
              " ('Radio', 0.18853001691820448),\n",
              " ('Newspaper', -0.0010374930424763285)]"
            ]
          },
          "metadata": {},
          "execution_count": 26
        }
      ]
    },
    {
      "cell_type": "code",
      "metadata": {
        "colab": {
          "base_uri": "https://localhost:8080/"
        },
        "id": "314f85e7",
        "outputId": "69237056-bf73-42be-963b-46a9940840a3"
      },
      "source": [
        "# print the R-squared  #Adj.square value for the model\n",
        "\n",
        "print('R_Square = {0}'.format(lm2.score(x, y)))\n",
        "\n",
        "Adj_R2 = 1 - (1-lm2.score(x, y))*(len(y)-1)/(len(y)-x.shape[1]-1)\n",
        "print('Adjusted_R_Square = {0}'.format(Adj_R2))"
      ],
      "id": "314f85e7",
      "execution_count": null,
      "outputs": [
        {
          "output_type": "stream",
          "name": "stdout",
          "text": [
            "R_Square = 0.8972106381789521\n",
            "Adjusted_R_Square = 0.8956373316204667\n"
          ]
        }
      ]
    },
    {
      "cell_type": "code",
      "metadata": {
        "id": "21f1a33f"
      },
      "source": [
        "# Similary calculate the R2 & Adj R2 for all combinations of independent variables & then decide which independent\n",
        "# variables to be choosen."
      ],
      "id": "21f1a33f",
      "execution_count": null,
      "outputs": []
    },
    {
      "cell_type": "markdown",
      "metadata": {
        "id": "dae3f9a7"
      },
      "source": [
        "## Regression plot "
      ],
      "id": "dae3f9a7"
    },
    {
      "cell_type": "code",
      "metadata": {
        "colab": {
          "base_uri": "https://localhost:8080/",
          "height": 391
        },
        "id": "3a5739d4",
        "outputId": "9df26951-a6e7-43ee-db38-592bcc030f48"
      },
      "source": [
        "sns.pairplot(data, x_vars=['TV','Radio','Newspaper'], y_vars='Sales', height=5, aspect=0.7, kind='reg')"
      ],
      "id": "3a5739d4",
      "execution_count": null,
      "outputs": [
        {
          "output_type": "execute_result",
          "data": {
            "text/plain": [
              "<seaborn.axisgrid.PairGrid at 0x7fb72dbeb9d0>"
            ]
          },
          "metadata": {},
          "execution_count": 29
        },
        {
          "output_type": "display_data",
          "data": {
            "image/png": "[encoded data removed]",
            "text/plain": [
              "<Figure size 756x360 with 3 Axes>"
            ]
          },
          "metadata": {
            "needs_background": "light"
          }
        }
      ]
    },
    {
      "cell_type": "markdown",
      "metadata": {
        "id": "fa3fd0b1"
      },
      "source": [
        "## Gradient discent example"
      ],
      "id": "fa3fd0b1"
    },
    {
      "cell_type": "code",
      "metadata": {
        "colab": {
          "base_uri": "https://localhost:8080/",
          "height": 1000
        },
        "id": "0c145d6f",
        "outputId": "0836e4fb-7ee5-434a-b188-bd459524f8c9"
      },
      "source": [
        "# Assignment  Slope, Intercept, Cost Function, Iterations. Plot (y: cost, x: iterations)\n",
        "\n",
        "import numpy as np\n",
        "import seaborn as sns\n",
        "import pandas as pd\n",
        "\n",
        "def gradient_descent(x,y):\n",
        "    \n",
        "    m = 0\n",
        "    c = 0\n",
        "    iterations = 100\n",
        "    n = len(x)\n",
        "    learning_rate = 0.08\n",
        "    cost_1 = []\n",
        "    iteration_1 = []\n",
        "    \n",
        "    for i in range(1,iterations):\n",
        "        \n",
        "        y_predicted = m * x + c\n",
        "        cost = (1/n) * sum([val**2 for val in (y-y_predicted)])\n",
        "        dm = -(2/n) * sum (x *(y-y_predicted))\n",
        "        dc = -(2/n) * sum(y-y_predicted)\n",
        "        \n",
        "        m = m - learning_rate * dm\n",
        "        c = c - learning_rate * dc\n",
        "        \n",
        "        cost_1.append(cost)\n",
        "        iteration_1.append(i)\n",
        "        \n",
        "        print(\"slope = {} , intercept = {} , Iteration= {}, cost = {}\". format(m,c,i,cost))\n",
        "    data = pd.DataFrame(list(zip(iteration_1, cost_1)),columns =['Iterations', 'Cost'])\n",
        "    return sns.lineplot(x='Iterations', y='Cost', data = data)\n",
        "\n",
        "x = np.array([1,2,3,4,5])\n",
        "y = np.array([5,6,7,11,13])\n",
        "\n",
        "gradient_descent(x,y)"
      ],
      "id": "0c145d6f",
      "execution_count": null,
      "outputs": [
        {
          "output_type": "stream",
          "name": "stdout",
          "text": [
            "slope = 4.704000000000001 , intercept = 1.344 , Iteration= 1, cost = 80.0\n",
            "slope = 0.48383999999999894 , intercept = 0.21503999999999945 , Iteration= 2, cost = 63.96876800000005\n",
            "slope = 4.2330624000000014 , intercept = 1.2923904000000004 , Iteration= 3, cost = 51.18316052480006\n",
            "slope = 0.8665251839999977 , intercept = 0.3977379839999995 , Iteration= 4, cost = 40.985650461409364\n",
            "slope = 3.8545266278400026 , intercept = 1.2621678182400007 , Iteration= 5, cost = 32.85194127170138\n",
            "slope = 1.168719210086397 , intercept = 0.5540481859583993 , Iteration= 6, cost = 26.36397009523322\n",
            "slope = 3.5498302710743066 , intercept = 1.248415255363585 , Iteration= 7, cost = 21.18838137691584\n",
            "slope = 1.4068896714090058 , intercept = 0.6887502843897442 , Iteration= 8, cost = 17.059362494501098\n",
            "slope = 3.3041637132220787 , intercept = 1.2472431966110624 , Iteration= 9, cost = 13.764957488068132\n",
            "slope = 1.59415884357791 , intercept = 0.8056857028066946 , Iteration= 10, cost = 11.136154103309472\n",
            "slope = 3.105710141533575 , intercept = 1.2555797454402267 , Iteration= 11, cost = 9.038182175949249\n",
            "slope = 1.7409820146231743 , intercept = 0.9079461182336744 , Iteration= 12, cost = 7.363575260566346\n",
            "slope = 2.945039532134224 , intercept = 1.271003372297163 , Iteration= 13, cost = 6.026638207652773\n",
            "slope = 1.8556883368753514 , intercept = 0.9980238573051893 , Iteration= 14, cost = 4.959035793819457\n",
            "slope = 2.8146254124682426 , intercept = 1.2916096384361904 , Iteration= 15, cost = 4.106275240067311\n",
            "slope = 1.9449120600747642 , intercept = 1.0779318983016435 , Iteration= 16, cost = 3.424901484861396\n",
            "slope = 2.7084595231583903 , intercept = 1.3159050057374937 , Iteration= 17, cost = 2.8802607828562374\n",
            "slope = 2.0139363596456263 , intercept = 1.1492996337034673 , Iteration= 18, cost = 2.4447174666519396\n",
            "slope = 2.6217445424916597 , intercept = 1.342722239681012 , Iteration= 19, cost = 2.096232045036174\n",
            "slope = 2.066967472659453 , intercept = 1.2134493009360534 , Iteration= 20, cost = 1.8172274185114508\n",
            "slope = 2.55064905632951 , intercept = 1.3711530259097475 , Iteration= 21, cost = 1.5936848297319817\n",
            "slope = 2.1073532647528936 , intercept = 1.2714569947260232 , Iteration= 22, cost = 1.4144229968236255\n",
            "slope = 2.49211216131931 , intercept = 1.4004943084884707 , Iteration= 23, cost = 1.270523310654595\n",
            "slope = 2.1377574893228584 , intercept = 1.3242013816970466 , Iteration= 24, cost = 1.154871498734063\n",
            "slope = 2.4436876449000455 , intercept = 1.4302055657505472 , Iteration= 25, cost = 1.061792155876823\n",
            "slope = 2.1602987183157025 , intercept = 1.3724026056784377 , Iteration= 26, cost = 0.986757323931766\n",
            "slope = 2.403419723354416 , intercept = 1.4598748039783505 , Iteration= 27, cost = 0.9261541159945973\n",
            "slope = 2.176661104341036 , intercept = 1.4166533681316948 , Iteration= 28, cost = 0.8770994209724468\n",
            "slope = 2.3697439439975994 , intercept = 1.4891914991469264 , Iteration= 29, cost = 0.8372921487119067\n",
            "slope = 2.1881826829713 , intercept = 1.4574437661645705 , Iteration= 30, cost = 0.8048954089873446\n",
            "slope = 2.3414081531828184 , intercept = 1.5179250757520153 , Iteration= 31, cost = 0.7784425590197026\n",
            "slope = 2.1959257672200905 , intercept = 1.49518115010394 , Iteration= 32, cost = 0.7567622832324182\n",
            "slope = 2.31740946486284 , intercept = 1.5459077978216662 , Iteration= 33, cost = 0.7389188489412716\n",
            "slope = 2.200733063749842 , intercept = 1.5302060070360366 , Iteration= 34, cost = 0.7241644630846621\n",
            "slope = 2.2969439881728224 , intercept = 1.5730211753103465 , Iteration= 35, cost = 0.7119012781694483\n",
            "slope = 2.2032724048396886 , intercept = 1.5628046729377363 , Iteration= 36, cost = 0.7016510924208317\n",
            "slope = 2.2793667293117235 , intercept = 1.599185170944648 , Iteration= 37, cost = 0.6930311852664521\n",
            "slope = 2.204072403669659 , intercept = 1.5932195135238771 , Iteration= 38, cost = 0.6857350451547677\n",
            "slope = 2.264159606719598 , intercept = 1.6243496375986204 , Iteration= 39, cost = 0.6795169985716651\n",
            "slope = 2.203550872845768 , intercept = 1.6216570843574343 , Iteration= 40, cost = 0.6741799499471588\n",
            "slope = 2.250905936145648 , intercept = 1.6484875318942762 , Iteration= 41, cost = 0.6695656022774923\n",
            "slope = 2.2020374732200554 , intercept = 1.648294677441281 , Iteration= 42, cost = 0.665546655973303\n",
            "slope = 2.2392700751809427 , intercept = 1.6715895419050495 , Iteration= 43, cost = 0.6620205852566943\n",
            "slope = 2.1997917627480597 , intercept = 1.6732855791133892 , Iteration= 44, cost = 0.6589046726119694\n",
            "slope = 2.2289811823370473 , intercept = 1.6936598403361782 , Iteration= 45, cost = 0.6561320465268571\n",
            "slope = 2.1970175780624785 , intercept = 1.696763298360607 , Iteration= 46, cost = 0.6536485193765231\n",
            "slope = 2.2198202574594252 , intercept = 1.7147127331529202 , Iteration= 47, cost = 0.6514100634594798\n",
            "slope = 2.1938744924174354 , intercept = 1.7188449722679289 , Iteration= 48, cost = 0.6493807960118334\n",
            "slope = 2.211609799074143 , intercept = 1.7347700203446912 , Iteration= 49, cost = 0.6475313701941681\n",
            "slope = 2.1904869429382 , intercept = 1.739634113533952 , Iteration= 50, cost = 0.6458376899109992\n",
            "slope = 2.2042055488706707 , intercept = 1.7538589227581836 , Iteration= 51, cost = 0.6442798829606092\n",
            "slope = 2.186951499934362 , intercept = 1.7592228316589522 , Iteration= 52, cost = 0.6428414802799276\n",
            "slope = 2.1974899008535878 , intercept = 1.772010458625026 , Iteration= 53, cost = 0.6415087596278992\n",
            "slope = 2.183342655211261 , intercept = 1.7776936328352997 , Iteration= 54, cost = 0.6402702204862719\n",
            "slope = 2.1913666382784975 , intercept = 1.7892581770802465 , Iteration= 55, cost = 0.6391161636831909\n",
            "slope = 2.179717429909824 , intercept = 1.7951208823737284 , Iteration= 56, cost = 0.6380383546086833\n",
            "slope = 2.1857567297291443 , intercept = 1.8056371748372164 , Iteration= 57, cost = 0.6370297531682314\n",
            "slope = 2.176119041483987 , intercept = 1.8115719965932726 , Iteration= 58, cost = 0.6360842970312746\n",
            "slope = 2.180594970107399 , intercept = 1.8211833372260353 , Iteration= 59, cost = 0.6351967274512806\n",
            "slope = 2.17257982084988 , intercept = 1.827108417618318 , Iteration= 60, cost = 0.6343624491028745\n",
            "slope = 2.1758272956972986 , intercept = 1.835932756791445 , Iteration= 61, cost = 0.6335774171111695\n",
            "slope = 2.1691235320101594 , intercept = 1.8417864137701103 , Iteration= 62, cost = 0.6328380458277134\n",
            "slope = 2.1714086370626258 , intercept = 1.849921292202016 , Iteration= 63, cost = 0.6321411350075365\n",
            "slope = 2.165767215575437 , intercept = 1.8556577396596332 , Iteration= 64, cost = 0.631483809919049\n",
            "slope = 2.167301201126044 , intercept = 1.8631842378378822 , Iteration= 65, cost = 0.6308634726182787\n",
            "slope = 2.1625226529820236 , intercept = 1.8687701832433201 , Iteration= 66, cost = 0.6302777621769744\n",
            "slope = 2.1634730957768684 , intercept = 1.8757560804930176 , Iteration= 67, cost = 0.6297245220992953\n",
            "slope = 2.1593975285729314 , intercept = 1.8811680216412379 , Iteration= 68, cost = 0.6292017735168658\n",
            "slope = 2.1598972278967783 , intercept = 1.8876703244636328 , Iteration= 69, cost = 0.6287076930352897\n",
            "slope = 2.1563963510559048 , intercept = 1.892892403158998 , Iteration= 70, cost = 0.6282405943311793\n",
            "slope = 2.1565504196811935 , intercept = 1.898959370146724 , Iteration= 71, cost = 0.6277989127791445\n",
            "slope = 2.1535211833718657 , intercept = 1.9039816694762752 , Iteration= 72, cost = 0.6273811925320665\n",
            "slope = 2.1534126992887703 , intercept = 1.9096544343415758 , Iteration= 73, cost = 0.626986075592838\n",
            "slope = 2.150772220056578 , intercept = 1.914471629188314 , Iteration= 74, cost = 0.6266122925074784\n",
            "slope = 2.1504667307466097 , intercept = 1.9197855028910262 , Iteration= 75, cost = 0.6262586543827118\n",
            "slope = 2.148148243244884 , intercept = 1.9243957916700896 , Iteration= 76, cost = 0.6259240459895937\n",
            "slope = 2.147697355132245 , intercept = 1.9293813082453308 , Iteration= 77, cost = 0.6256074197614652\n",
            "slope = 2.145646982141735 , intercept = 1.9337855684626004 , Iteration= 78, cost = 0.6253077905318728\n",
            "slope = 2.145091220710233 , intercept = 1.9384693260805514 , Iteration= 79, cost = 0.6250242308879099\n",
            "slope = 2.143265395741558 , intercept = 1.9426704479667514 , Iteration= 80, cost = 0.6247558670383531\n",
            "slope = 2.142636484212375 , intercept = 1.9470757863361232 , Iteration= 81, cost = 0.6245018751150293\n",
            "slope = 2.1409998945572557 , intercept = 1.9510781481004036 , Iteration= 82, cost = 0.6242614778412102\n",
            "slope = 2.140322569048292 , intercept = 1.9552256950168563 , Iteration= 83, cost = 0.6240339415130441\n",
            "slope = 2.138846513915207 , intercept = 1.959034750670979 , Iteration= 84, cost = 0.6238185732499414\n",
            "slope = 2.138139969102373 , intercept = 1.9629428638843232 , Iteration= 85, cost = 0.6236147184776788\n",
            "slope = 2.136801048817721 , intercept = 1.9665648204936923 , Iteration= 86, cost = 0.6234217586143913\n",
            "slope = 2.1360800890615597 , intercept = 1.9702499457821954 , Iteration= 87, cost = 0.6232391089347296\n",
            "slope = 2.134859158337761 , intercept = 1.9736915117074956 , Iteration= 88, cost = 0.6230662165915904\n",
            "slope = 2.1341351140437035 , intercept = 1.9771684738321709 , Iteration= 89, cost = 0.6229025587781761\n",
            "slope = 2.1330164458873435 , intercept = 1.980436663278046 , Iteration= 90, cost = 0.6227476410158553\n",
            "slope = 2.1322979027521574 , intercept = 1.9837189031276337 , Iteration= 91, cost = 0.6226009955554948\n",
            "slope = 2.1312685204070965 , intercept = 1.9868208853061768 , Iteration= 92, cost = 0.6224621798817194\n",
            "slope = 2.1305618995436415 , intercept = 1.9899206538617822 , Iteration= 93, cost = 0.6223307753110516\n",
            "slope = 2.129611042493177 , intercept = 1.9928636374629491 , Iteration= 94, cost = 0.6222063856760539\n",
            "slope = 2.1289210617229695 , intercept = 1.9957921550721522 , Iteration= 95, cost = 0.6220886360886361\n",
            "slope = 2.12803975865591 , intercept = 1.9985833006335825 , Iteration= 96, cost = 0.6219771717764724\n",
            "slope = 2.127369799117389 , intercept = 2.0013508883773725 , Iteration= 97, cost = 0.6218716569871972\n",
            "slope = 2.1265505262496456 , intercept = 2.0039972426606463 , Iteration= 98, cost = 0.621771773955601\n",
            "slope = 2.1259029235731597 , intercept = 2.006613431235113 , Iteration= 99, cost = 0.6216772219295624\n"
          ]
        },
        {
          "output_type": "execute_result",
          "data": {
            "text/plain": [
              "<matplotlib.axes._subplots.AxesSubplot at 0x7fb72ba79790>"
            ]
          },
          "metadata": {},
          "execution_count": 30
        },
        {
          "output_type": "display_data",
          "data": {
            "image/png": "[encoded data removed]",
            "text/plain": [
              "<Figure size 432x288 with 1 Axes>"
            ]
          },
          "metadata": {
            "needs_background": "light"
          }
        }
      ]
    },
    {
      "cell_type": "code",
      "metadata": {
        "id": "6854ffa4"
      },
      "source": [
        ""
      ],
      "id": "6854ffa4",
      "execution_count": null,
      "outputs": []
    }
  ]
}